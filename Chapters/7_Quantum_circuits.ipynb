{
 "cells": [
  {
   "cell_type": "markdown",
   "metadata": {},
   "source": [
    "# 7 Quantum Circuits\n",
    "\n",
    "\n",
    "## 7.1 What do you need for a quantum computation? \n",
    "\n",
    "The predominant model of quantum computing, at the moment, is the circuit model. \n",
    "\n",
    "A quantum ciruit is a diagram showing the operations that act on qubits to carry out a computation. All quantum circuits have 3 parts:\n",
    "\n",
    "1. Initialisaton: Start your qubits in an initial quantum state\n",
    "2. Computation: Perform a series of single and 2 qubit gates \n",
    "3. Measurement: Measure the qubits \n",
    "\n",
    "Many quantum algorithms will also interface with a classical computer outside these steps. This is very application-spcific so it will be covered later. \n",
    "\n",
    "\n",
    "### 7.1.1 Hello quantum world\n",
    "\n",
    "In this course the open-source quantum development kit, Qiskit (pronounced kiss-ket) will be used. It is developed by IBM and has the greatest support including: \n",
    "\n",
    "- [An excellent open-source textbook on how to use it](https://qiskit.org/textbook/preface.html) \n",
    "- Many YouTube tutorials (by IBM and 3rd parties)\n",
    "- Many hackathons orgainsed by IBM and others use Qikist\n",
    "- Excellent documentation \n",
    "- Good compatibility with other gate-based quantum computers\n",
    "\n",
    "There are two ways to use Qiskit. It can be installed on your local machine or accessed over the cloud (for free) thanks to IBM\n",
    "\n",
    "You can find instructions on [how to install Qiskit here](https://qiskit.org/documentation/stable/0.24/install.html)\n",
    "\n",
    "\n"
   ]
  },
  {
   "cell_type": "code",
   "execution_count": 1,
   "metadata": {},
   "outputs": [],
   "source": [
    "import qiskit\n",
    "import numpy as np\n",
    "from qiskit import QuantumCircuit,Aer, execute\n",
    "from qiskit.tools.visualization import plot_histogram\n",
    "from qiskit_textbook.widgets import plot_bloch_vector_spherical"
   ]
  },
  {
   "cell_type": "code",
   "execution_count": 6,
   "metadata": {},
   "outputs": [
    {
     "data": {
      "text/html": [
       "<pre style=\"word-wrap: normal;white-space: pre;background: #fff0;line-height: 1.1;font-family: &quot;Courier New&quot;,Courier,monospace\">        ┌───┐ ░ ┌─┐   \n",
       "   q_0: ┤ H ├─░─┤M├───\n",
       "        ├───┤ ░ └╥┘┌─┐\n",
       "   q_1: ┤ H ├─░──╫─┤M├\n",
       "        └───┘ ░  ║ └╥┘\n",
       "meas: 2/═════════╩══╩═\n",
       "                 0  1 </pre>"
      ],
      "text/plain": [
       "        ┌───┐ ░ ┌─┐   \n",
       "   q_0: ┤ H ├─░─┤M├───\n",
       "        ├───┤ ░ └╥┘┌─┐\n",
       "   q_1: ┤ H ├─░──╫─┤M├\n",
       "        └───┘ ░  ║ └╥┘\n",
       "meas: 2/═════════╩══╩═\n",
       "                 0  1 "
      ]
     },
     "execution_count": 6,
     "metadata": {},
     "output_type": "execute_result"
    }
   ],
   "source": [
    "######### Create your first quantum circuit #########\n",
    "\n",
    "# We're gonna make a quantum circuit with 2 qubits\n",
    "\n",
    "first_qc = QuantumCircuit(2)\n",
    "\n",
    "# let's add some quantum gates \n",
    "first_qc.h(0)\n",
    "first_qc.h(1)\n",
    "\n",
    "\n",
    "\n",
    "# Finally we want to measure our qubits \n",
    "\n",
    "first_qc.measure_all()\n",
    "\n",
    "\n",
    "# Let's draw the circuit diagram \n",
    "\n",
    "first_qc.draw(style = 'mpl')"
   ]
  },
  {
   "cell_type": "code",
   "execution_count": null,
   "metadata": {},
   "outputs": [],
   "source": [
    "######### Running this circuit #########\n",
    "\n",
    "# Simulator backend\n",
    "\n",
    "# Running on a quantum circuit \n",
    "\n",
    "\n",
    "# Plot results on a histogram"
   ]
  },
  {
   "cell_type": "markdown",
   "metadata": {},
   "source": [
    "\n",
    "\n",
    "\n",
    "\n",
    "> ### Exercise 7.1 1 + 1 = 2 (most of the time )\n",
    "> \n",
    "> A simple quantum circuit can be used to add 2 bits. \n",
    "\n"
   ]
  },
  {
   "cell_type": "markdown",
   "metadata": {},
   "source": [
    "\n",
    "\n",
    "> ### Exercise 7.2 The Quantum Fourier Transform \n",
    "> \n",
    "> The quantum Fourier transform (QFT) is the most powerful subroutine for any quantum algorithm. It is what grants Shors algorithm its exponential speedup and is featured in many quantum algorithms. This exercise will not fully explain what it is, or how it works, but will instead simply generate the circuit for the QFT. \n",
    "\n",
    "\n",
    "\n",
    "\n",
    " "
   ]
  },
  {
   "cell_type": "code",
   "execution_count": null,
   "metadata": {},
   "outputs": [],
   "source": [
    "# Parameterised quantum circuits \n",
    "\n",
    "parameterised_qc = QuantumCircuit(2)\n",
    "\n",
    "# Define a gate with a parameter \n",
    "\n"
   ]
  },
  {
   "cell_type": "code",
   "execution_count": 1,
   "metadata": {},
   "outputs": [
    {
     "data": {
      "text/html": [
       "<h3>Version Information</h3><table><tr><th>Qiskit Software</th><th>Version</th></tr><tr><td><code>qiskit-terra</code></td><td>0.21.2</td></tr><tr><td><code>qiskit-ibmq-provider</code></td><td>0.19.2</td></tr><tr><td><code>qiskit</code></td><td>0.37.2</td></tr><tr><th>System information</th></tr><tr><td>Python version</td><td>3.10.5</td></tr><tr><td>Python compiler</td><td>MSC v.1929 64 bit (AMD64)</td></tr><tr><td>Python build</td><td>tags/v3.10.5:f377153, Jun  6 2022 16:14:13</td></tr><tr><td>OS</td><td>Windows</td></tr><tr><td>CPUs</td><td>6</td></tr><tr><td>Memory (Gb)</td><td>7.338436126708984</td></tr><tr><td colspan='2'>Tue Sep 13 22:17:16 2022 GMT Daylight Time</td></tr></table>"
      ],
      "text/plain": [
       "<IPython.core.display.HTML object>"
      ]
     },
     "metadata": {},
     "output_type": "display_data"
    }
   ],
   "source": [
    "import qiskit.tools.jupyter\n",
    "%qiskit_version_table"
   ]
  }
 ],
 "metadata": {
  "kernelspec": {
   "display_name": "Python 3.10.5 64-bit",
   "language": "python",
   "name": "python3"
  },
  "language_info": {
   "codemirror_mode": {
    "name": "ipython",
    "version": 3
   },
   "file_extension": ".py",
   "mimetype": "text/x-python",
   "name": "python",
   "nbconvert_exporter": "python",
   "pygments_lexer": "ipython3",
   "version": "3.10.5"
  },
  "orig_nbformat": 4,
  "vscode": {
   "interpreter": {
    "hash": "80f0ca567e8a8332be8d0227e77114b80c729e82298f4777b19db59a6217bb0d"
   }
  }
 },
 "nbformat": 4,
 "nbformat_minor": 2
}
